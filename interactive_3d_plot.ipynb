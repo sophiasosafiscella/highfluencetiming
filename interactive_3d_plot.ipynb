{
 "cells": [
  {
   "cell_type": "code",
   "execution_count": null,
   "metadata": {
    "collapsed": true,
    "pycharm": {
     "name": "#%%\n"
    }
   },
   "outputs": [],
   "source": [
    "# for creating a responsive plot\n",
    "%matplotlib widget\n",
    "\n",
    "# importing required libraries\n",
    "import pypulse as pyp\n",
    "import matplotlib.pyplot as plt\n",
    "import plotly\n",
    "import plotly.graph_objs as go\n",
    "import plotly.express as px\n",
    "from plotly.subplots import make_subplots\n",
    "import seaborn as sns\n",
    "import numpy as np\n",
    "import pandas as pd\n",
    "import glob\n",
    "\n",
    "import sys\n",
    "\n",
    "# Configure Plotly to be rendered inline in the notebook.\n",
    "plotly.offline.init_notebook_mode()"
   ]
  },
  {
   "cell_type": "code",
   "execution_count": null,
   "outputs": [],
   "source": [
    "file = \"./results/pol_calibrated/L_band_meerguard_pazr/0.0_sigma/features.pkl\"\n",
    "data = pd.read_pickle(file)\n",
    "filtered_data = data.loc[~((data['Width'] == 0.0))]"
   ],
   "metadata": {
    "collapsed": false
   }
  },
  {
   "cell_type": "code",
   "outputs": [],
   "source": [
    "filtered_data = filtered_data[filtered_data['Energy'] < 100.0]\n",
    "filtered_data = filtered_data[filtered_data['Energy'] > -10.0]\n",
    "#data.to_csv(\"./results/820_band/0.0_sigma/features.csv\")"
   ],
   "metadata": {
    "collapsed": false
   },
   "execution_count": null
  },
  {
   "cell_type": "code",
   "execution_count": null,
   "outputs": [],
   "source": [
    "fig = px.scatter_3d(filtered_data,\n",
    "                    x='Width', y='Energy', z='Amp',\n",
    "                    template=\"plotly\")\n",
    "\n",
    "name = 'L Band'\n",
    "# Default parameters which are used when `layout.scene.camera` is not provided\n",
    "camera = dict(\n",
    "    eye=dict(x=1.5, y=2, z=1.5))\n",
    "fig.update_traces(marker_size = 4)\n",
    "\n",
    "fig.update_layout(scene_camera=camera, title=name)\n",
    "fig.update_layout(margin=dict(l=0, r=0, b=0, t=0))\n",
    "fig.update_layout(autosize=False, width=600, height=600)\n",
    "\n",
    "fig.update_layout(\n",
    "    font=dict(\n",
    "#        family=\"Courier New, monospace\",\n",
    "        size=15,  # Set the font size here\n",
    "#        color=\"RebeccaPurple\"\n",
    "    )\n",
    ")\n",
    "\n",
    "fig.write_image(\"plots/L_band_3d_features.pdf\")\n",
    "fig.show()"
   ],
   "metadata": {
    "collapsed": false,
    "pycharm": {
     "name": "#%%\n"
    }
   }
  },
  {
   "cell_type": "code",
   "execution_count": null,
   "outputs": [],
   "source": [
    "# creating figure\n",
    "\n",
    "trace = go.Scatter3d(clustered_data,\n",
    "                     x='Width', y='Amp', z='Energy', mode='markers',\n",
    "                     marker={'size': 10, 'opacity': 0.8,})\n",
    "\n",
    "layout = go.Layout(margin={'l': 0, 'r': 0, 'b': 0, 't': 0})\n",
    "\n",
    "plot_figure = go.Figure(data=[trace], layout=layout)\n",
    "\n",
    "#fig.update_layout(legend_title_text = file[:-5])\n",
    "plot_figure.update_layout(scene_aspectmode='auto')\n",
    "plot_figure.update_layout(scene = dict(\n",
    "#                    xaxis_title='Width',\n",
    "#                    yaxis_title='Energy',\n",
    "                    zaxis_title='Amp'),\n",
    "                    width=700,\n",
    "                    margin=dict(r=20, b=10, l=10, t=10))\n",
    "\n",
    "# Render the plot.\n",
    "plotly.offline.iplot(plot_figure)"
   ],
   "metadata": {
    "collapsed": false,
    "pycharm": {
     "name": "#%%\n"
    }
   }
  },
  {
   "cell_type": "markdown",
   "source": [
    "## Plot Kmeans-clustered data"
   ],
   "metadata": {
    "collapsed": false
   }
  },
  {
   "cell_type": "code",
   "outputs": [],
   "source": [
    "clustered_data = pd.read_pickle(\"/Users/vs4793/PycharmProjects/highfluencetiming/results/pol_calibrated/L_band_meerguard_pazr/0.0_sigma/Kmeans/8_kmeans_clusters.pkl\").sort_values('Cluster')\n",
    "clustered_data = clustered_data[clustered_data['Energy'] < 100.0]\n",
    "clustered_data = clustered_data[clustered_data['Energy'] > -10.0]"
   ],
   "metadata": {
    "collapsed": false
   },
   "execution_count": null
  },
  {
   "cell_type": "code",
   "outputs": [],
   "source": [
    "cmap = [px.colors.qualitative.Plotly[i] for i in [3, 0, 5, 2, 9, 4, 1, 8]]"
   ],
   "metadata": {
    "collapsed": false
   },
   "execution_count": null
  },
  {
   "cell_type": "code",
   "outputs": [],
   "source": [
    "# Post-clustering figure\n",
    "\n",
    "#cmap = sns.color_palette('colorblind')\n",
    "\n",
    "#labels = clustered_data[:, 4].astype(int)\n",
    "#unique_labels = np.unique(labels)\n",
    "\n",
    "fig = px.scatter_3d(clustered_data, x='Width', y='Energy', z='Amp',\n",
    "              color='Cluster', template=\"plotly\", color_discrete_sequence=cmap)\n",
    "\n",
    "fig.update_layout(legend = dict(orientation=\"v\", x = 0.7, y = 0.72, traceorder='normal'))\n",
    "name = 'L Band'\n",
    "# Default parameters which are used when `layout.scene.camera` is not provided\n",
    "camera = dict(\n",
    "    eye=dict(x=-1.5, y=-2.0, z=0.5))\n",
    "fig.update_traces(marker_size = 4)\n",
    "\n",
    "fig.update_layout(scene_camera=camera, title=name)\n",
    "fig.update_layout(margin=dict(l=0, r=0, b=0, t=0))\n",
    "fig.update_layout(autosize=False, width=600, height=600)\n",
    "\n",
    "fig.update_layout(\n",
    "    scene = dict(\n",
    "                    xaxis_title='Width',\n",
    "                    yaxis_title='Energy',\n",
    "                    zaxis_title='Amplitude'),\n",
    "    font=dict(\n",
    "#        family=\"Courier New, monospace\",\n",
    "        size=15,  # Set the font size here\n",
    "#        color=\"RebeccaPurple\"\n",
    "    )\n",
    ")\n",
    "\n",
    "fig.write_image(\"plots/L_band_3d_clustered.pdf\")\n",
    "fig.show()"
   ],
   "metadata": {
    "collapsed": false,
    "pycharm": {
     "name": "#%%\n"
    }
   },
   "execution_count": null
  },
  {
   "cell_type": "markdown",
   "source": [
    "## Plot OPTICS-clustered data"
   ],
   "metadata": {
    "collapsed": false
   }
  },
  {
   "cell_type": "code",
   "outputs": [],
   "source": [
    "clustered_data = pd.read_pickle(\"./results/pol_calibrated/820_band_meerguard_pazr/0.0_sigma/OPTICS_min_cluster_size_0.03/0.11_maxeps/0.11_OPTICS_features.pkl\").sort_values('Cluster')\n",
    "\n",
    "fig = px.scatter_3d(clustered_data, x='Width', y='Energy', z='Amp', opacity=0.3,\n",
    "              color='Cluster', template=\"plotly\", color_discrete_sequence=cmap)\n",
    "\n",
    "fig.update_layout(legend = dict(orientation=\"v\", x = 0.7, y = 0.72, traceorder='normal'))\n",
    "\n",
    "# Default parameters which are used when `layout.scene.camera` is not provided\n",
    "camera = dict(\n",
    "    eye=dict(x=-1.5, y=-2.0, z=0.5))\n",
    "fig.update_traces(marker_size = 4)\n",
    "\n",
    "fig.update_layout(scene_camera=camera)\n",
    "fig.update_layout(margin=dict(l=0, r=0, b=0, t=0))\n",
    "fig.update_layout(autosize=False, width=600, height=600)\n",
    "\n",
    "fig.update_layout(\n",
    "    scene = dict(\n",
    "                    xaxis_title='Width',\n",
    "                    yaxis_title='Energy',\n",
    "                    zaxis_title='Amplitude'),\n",
    "    font=dict(\n",
    "#        family=\"Courier New, monospace\",\n",
    "        size=15,  # Set the font size here\n",
    "#        color=\"RebeccaPurple\"\n",
    "    )\n",
    ")\n",
    "\n",
    "#fig.write_image(\"plots/OPTICS_3d_clustered.pdf\")\n",
    "fig.show()"
   ],
   "metadata": {
    "collapsed": false
   },
   "execution_count": null
  },
  {
   "cell_type": "markdown",
   "source": [
    "# Plot examples from each cluster"
   ],
   "metadata": {
    "collapsed": false
   }
  },
  {
   "cell_type": "code",
   "outputs": [],
   "source": [
    "clustered_data = pd.read_pickle(\"/Users/vs4793/PycharmProjects/highfluencetiming/results/pol_calibrated/820_band_meerguard_pazr/0.0_sigma/Kmeans/7_kmeans_clusters.pkl\")\n",
    "clustered_results = pd.read_pickle(\"/Users/vs4793/PycharmProjects/highfluencetiming/results/pol_calibrated/820_band_meerguard_pazr/0.0_sigma/Kmeans/7_clusters/7_clusters_results.plk\")\n",
    "unnormalized_data = pd.read_pickle(\"/Users/vs4793/PycharmProjects/highfluencetiming/results/pol_calibrated/820_band_meerguard_pazr/0.0_sigma/unnormalized_data.pkl\")"
   ],
   "metadata": {
    "collapsed": false
   },
   "execution_count": null
  },
  {
   "cell_type": "code",
   "outputs": [],
   "source": [
    "def clean_artifacts(cluster_average_pulse, clean_window, delta:int = 20):\n",
    "    \n",
    "    interpolating_bins = np.r_[clean_window[0]-delta : clean_window[0] , clean_window[1]+1: clean_window[1]+1 + delta]\n",
    "    \n",
    "    cluster_average_pulse[clean_window[0]:clean_window[1]+1] = np.interp(x=np.arange(clean_window[0], clean_window[1]+1, 1),\n",
    "                                                                         xp=interpolating_bins, fp=cluster_average_pulse[interpolating_bins])\n",
    "\n",
    "    return cluster_average_pulse"
   ],
   "metadata": {
    "collapsed": false
   },
   "execution_count": null
  },
  {
   "cell_type": "code",
   "outputs": [],
   "source": [
    "n_clusters : int = len(clustered_data.Cluster.unique())\n",
    "bins = np.arange(1, 513, 1, dtype=int)\n",
    "\n",
    "fig, axs = plt.subplots(nrows=6, ncols=4, sharex=True, figsize=(16, 16),\n",
    "                        gridspec_kw=dict(hspace=0.0, height_ratios=[1, 1, 1, 1, 1, 1.5]))\n",
    "\n",
    "sns.set_style('ticks')\n",
    "sns.set_context(\"paper\", font_scale = 2.0)\n",
    "#cmap = sns.color_palette('colorblind')\n",
    "cmap =  sns.color_palette(palette='Paired')[0:4] + sns.color_palette(palette='Paired')[6:8] + sns.color_palette(palette='Paired')[4:6]\n",
    "\n",
    "#fig.suptitle(f'K-means with $k={n_clusters}$ clusters', fontsize=32)\n",
    "\n",
    "for column, cluster_index in enumerate([2, 3, 4, 6]):\n",
    "    \n",
    "     # Isolate the single pulses in the cluster\n",
    "    cluster_sp_times = clustered_data[clustered_data['Cluster'] == str(cluster_index)].index.to_numpy()\n",
    "    cluster_average_pulse = np.average(unnormalized_data.loc[cluster_sp_times].to_numpy(), axis=0)\n",
    "#    cluster_avg_sp = pyp.SinglePulse(cluster_average_pulse, opw=np.arange(0, 100))\n",
    "#    cluster_avg_sp.remove_baseline(save=True)\n",
    "     \n",
    "    for row, sp_t in enumerate(cluster_sp_times[1:7]):\n",
    "        \n",
    "        if row == 0:\n",
    "            axs[row, column].set_title(f'Cluster {cluster_index} \\n $w={round(clustered_results[\"1/sigma^2\"].iloc[cluster_index], 2)}$', fontsize=28)\n",
    "\n",
    "        if row == 5:\n",
    "            smoothed_cluster = clean_artifacts(cluster_average_pulse, [224, 227])\n",
    "            axs[row, column].plot(smoothed_cluster, lw=2.0, color=cmap[2 * column + 1])\n",
    "            axs[row, column].set_xlabel(\"Phase Bins\")\n",
    "            \n",
    "        else:\n",
    "            axs[row, column].plot(unnormalized_data.loc[[sp_t]].transpose().to_numpy(), color=cmap[2 * column])\n",
    "             \n",
    "            if column == 0:\n",
    "                axs[row, column].set_ylabel(\"Intensity\")\n",
    "\n",
    "plt.tight_layout()\n",
    "plt.savefig(\"./plots/820_band_clusters_examples.pdf\")\n",
    "plt.show()"
   ],
   "metadata": {
    "collapsed": false
   },
   "execution_count": null
  },
  {
   "cell_type": "code",
   "outputs": [],
   "source": [
    "clustered_data = pd.read_pickle(\"/Users/vs4793/PycharmProjects/highfluencetiming/results/pol_calibrated/L_band_everything/0.0_sigma/Kmeans/8_kmeans_clusters.pkl\")\n",
    "unnormalized_data = pd.read_pickle(\"/Users/vs4793/PycharmProjects/highfluencetiming/results/pol_calibrated/L_band_everything/0.0_sigma/unnormalized_data.pkl\")"
   ],
   "metadata": {
    "collapsed": false
   },
   "execution_count": null
  },
  {
   "cell_type": "code",
   "outputs": [],
   "source": [
    "n_clusters : int = len(clustered_data.Cluster.unique())\n",
    "bins = np.arange(1, 513, 1, dtype=int)\n",
    "\n",
    "fig, axs = plt.subplots(nrows=6, ncols=8, sharex=True, figsize=(32, 16),\n",
    "                        gridspec_kw=dict(hspace=0.0, height_ratios=[1, 1, 1, 1, 1, 1.5]))\n",
    "\n",
    "sns.set_style('ticks')\n",
    "sns.set_context(\"paper\", font_scale = 2.0)\n",
    "cmap = sns.color_palette()\n",
    "#cmap =  sns.color_palette(palette='Paired')[0:4] + sns.color_palette(palette='Paired')[6:8] + sns.color_palette(palette='Paired')[4:6]\n",
    "\n",
    "#fig.suptitle(f'K-means with $k={n_clusters}$ clusters', fontsize=32)\n",
    "\n",
    "for column, cluster_index in enumerate([0, 1, 2, 3, 4, 5, 6, 7]):\n",
    "    \n",
    "     # Isolate the single pulses in the cluster\n",
    "    cluster_sp_times = clustered_data[clustered_data['Cluster'] == str(cluster_index)].index.to_numpy()\n",
    "    cluster_average_pulse = np.average(unnormalized_data.loc[cluster_sp_times].to_numpy(), axis=0)\n",
    "#    cluster_avg_sp = pyp.SinglePulse(cluster_average_pulse, opw=np.arange(0, 100))\n",
    "#    cluster_avg_sp.remove_baseline(save=True)\n",
    "     \n",
    "    for row, sp_t in enumerate(cluster_sp_times[1:7]):\n",
    "        \n",
    "        if row == 0:\n",
    "            axs[row, column].set_title(f'Cluster {cluster_index} \\n $n={len(cluster_sp_times)}$', fontsize=28)\n",
    "\n",
    "        if row == 5:\n",
    "            smoothed_cluster = clean_artifacts(cluster_average_pulse, [224, 238])\n",
    "#            smoothed_cluster = clean_artifacts(cluster_average_pulse, [224, 227])\n",
    "            axs[row, column].plot(smoothed_cluster, lw=2.0) #, color=cmap[2 * column + 1])\n",
    "            axs[row, column].set_xlabel(\"Phase Bins\")\n",
    "            \n",
    "        else:\n",
    "            axs[row, column].plot(unnormalized_data.loc[[sp_t]].transpose().to_numpy()) #, color=cmap[2 * column])\n",
    "             \n",
    "            if column == 0:\n",
    "                axs[row, column].set_ylabel(\"Intensity\")\n",
    "\n",
    "plt.tight_layout()\n",
    "#plt.savefig(\"./plots/L_band_clusters_examples.pdf\")\n",
    "plt.show()"
   ],
   "metadata": {
    "collapsed": false
   },
   "execution_count": null
  },
  {
   "cell_type": "code",
   "execution_count": null,
   "outputs": [],
   "source": [
    "ds = pd.read_pickle(\"./results/820_band/dynamic_spectrum.pkl\")\n",
    "display(ds)\n",
    "\n",
    "fig = px.imshow(ds, labels=dict(x=\"Time (s)\", y=\"Frequency channel (MHz)\"), aspect=\"auto\",\n",
    "                color_continuous_scale=px.colors.sequential.Inferno)\n",
    "fig.show()"
   ],
   "metadata": {
    "collapsed": false,
    "pycharm": {
     "name": "#%%\n"
    }
   }
  },
  {
   "cell_type": "code",
   "execution_count": null,
   "outputs": [],
   "source": [
    "file = \"./data/820_band/GUPPI_57785_J2145-0750_0004_0001.ar\"\n",
    "channels = pyp.Archive(file, prepare=False, center_pulse=False, baseline_removal=False,\n",
    "                         lowmem=True, verbose=False).getAxis(flag=\"F\", edges=True)\n",
    "print(len(channels))\n",
    "print(len(channels[64:-32]))"
   ],
   "metadata": {
    "collapsed": false,
    "pycharm": {
     "name": "#%%\n"
    }
   }
  },
  {
   "cell_type": "code",
   "execution_count": null,
   "outputs": [],
   "source": [],
   "metadata": {
    "collapsed": false
   }
  }
 ],
 "metadata": {
  "kernelspec": {
   "display_name": "Python 3",
   "language": "python",
   "name": "python3"
  },
  "language_info": {
   "codemirror_mode": {
    "name": "ipython",
    "version": 2
   },
   "file_extension": ".py",
   "mimetype": "text/x-python",
   "name": "python",
   "nbconvert_exporter": "python",
   "pygments_lexer": "ipython2",
   "version": "2.7.6"
  }
 },
 "nbformat": 4,
 "nbformat_minor": 0
}
